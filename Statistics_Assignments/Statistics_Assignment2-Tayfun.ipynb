{
 "cells": [
  {
   "cell_type": "code",
   "execution_count": 1,
   "id": "2f07729b",
   "metadata": {},
   "outputs": [],
   "source": [
    "import numpy as np\n",
    "from scipy import stats\n",
    "import matplotlib.pyplot as plt\n",
    "import seaborn as sns\n"
   ]
  },
  {
   "cell_type": "markdown",
   "id": "5ac52495",
   "metadata": {},
   "source": [
    "EXERCISE 1. Suppose scores on exams in statistics are normally distributed with an unknown population mean and a population standard deviation of 3 points. A random sample of 36 scores is taken and gives a sample mean (sample  mean score) of 68. Find a confidence interval estimate for the population mean exam score (the mean score on all exams).\n",
    "\n",
    "Find a 90% confidence interval for the true (population) mean of statistics exam scores."
   ]
  },
  {
   "cell_type": "code",
   "execution_count": 2,
   "id": "3c000eba",
   "metadata": {},
   "outputs": [],
   "source": [
    "sd = 3\n",
    "n = 36\n",
    "xbar = 68\n",
    "alpha = 0.90\n"
   ]
  },
  {
   "cell_type": "code",
   "execution_count": 3,
   "id": "28fd30fc",
   "metadata": {},
   "outputs": [
    {
     "data": {
      "text/plain": [
       "0.5"
      ]
     },
     "execution_count": 3,
     "metadata": {},
     "output_type": "execute_result"
    }
   ],
   "source": [
    "sem = sd/np.sqrt(n)\n",
    "sem"
   ]
  },
  {
   "cell_type": "code",
   "execution_count": 4,
   "id": "3ddaee85",
   "metadata": {},
   "outputs": [
    {
     "data": {
      "text/plain": [
       "(67.17757318652427, 68.82242681347573)"
      ]
     },
     "execution_count": 4,
     "metadata": {},
     "output_type": "execute_result"
    }
   ],
   "source": [
    "stats.norm.interval(alpha=alpha,loc=xbar, scale=sem)"
   ]
  },
  {
   "cell_type": "markdown",
   "id": "cf844b7a",
   "metadata": {},
   "source": [
    "EXERCISE 2. What is the normal body temperature for healthy humans? A random sample of 130 healthy human body temperatures provided by Allen Shoemaker7 yielded 98.25 degrees and standard deviation 0.73 degrees. \n",
    "\n",
    "Give a 99% confidence interval for the average body temperature of healthy people."
   ]
  },
  {
   "cell_type": "code",
   "execution_count": 6,
   "id": "0ad12c3f",
   "metadata": {},
   "outputs": [],
   "source": [
    "n = 130\n",
    "xbar=98.25\n",
    "sd=0.73\n",
    "alpha = 0.99"
   ]
  },
  {
   "cell_type": "code",
   "execution_count": 8,
   "id": "a01e7aed",
   "metadata": {},
   "outputs": [
    {
     "data": {
      "text/plain": [
       "0.06402523540941313"
      ]
     },
     "execution_count": 8,
     "metadata": {},
     "output_type": "execute_result"
    }
   ],
   "source": [
    "sem = sd/np.sqrt(n)\n",
    "sem"
   ]
  },
  {
   "cell_type": "code",
   "execution_count": 9,
   "id": "d50e41f5",
   "metadata": {},
   "outputs": [
    {
     "data": {
      "text/plain": [
       "(98.08508192246582, 98.41491807753418)"
      ]
     },
     "execution_count": 9,
     "metadata": {},
     "output_type": "execute_result"
    }
   ],
   "source": [
    "stats.norm.interval(alpha=alpha,loc=xbar, scale=sem)"
   ]
  },
  {
   "cell_type": "markdown",
   "id": "893556a4",
   "metadata": {},
   "source": [
    "EXERCISE 3. The administrators for a hospital wished to estimate the average number of days required for inpatient treatment of patients between the ages of 25 and 34. A random sample of 500 hospital patients between these ages produced a mean and standard deviation equal to 5.4 and 3.1 days, respectively.\n",
    "\n",
    "Construct a 95% confidence interval for the mean length of stay for the population of patients from which the sample was drawn."
   ]
  },
  {
   "cell_type": "code",
   "execution_count": 10,
   "id": "6d0df478",
   "metadata": {},
   "outputs": [],
   "source": [
    "n=500\n",
    "xbar=5.4\n",
    "sd=3.1\n",
    "alpha=0.95"
   ]
  },
  {
   "cell_type": "code",
   "execution_count": 11,
   "id": "86b1ceb0",
   "metadata": {},
   "outputs": [
    {
     "data": {
      "text/plain": [
       "0.13863621460498696"
      ]
     },
     "execution_count": 11,
     "metadata": {},
     "output_type": "execute_result"
    }
   ],
   "source": [
    "sem = sd/np.sqrt(n)\n",
    "sem"
   ]
  },
  {
   "cell_type": "code",
   "execution_count": 12,
   "id": "4f8cb453",
   "metadata": {},
   "outputs": [
    {
     "data": {
      "text/plain": [
       "(5.12827801242126, 5.67172198757874)"
      ]
     },
     "execution_count": 12,
     "metadata": {},
     "output_type": "execute_result"
    }
   ],
   "source": [
    "stats.norm.interval(alpha=alpha,loc=xbar, scale=sem)"
   ]
  },
  {
   "cell_type": "code",
   "execution_count": null,
   "id": "30c272cc",
   "metadata": {},
   "outputs": [],
   "source": []
  }
 ],
 "metadata": {
  "kernelspec": {
   "display_name": "Python 3 (ipykernel)",
   "language": "python",
   "name": "python3"
  },
  "language_info": {
   "codemirror_mode": {
    "name": "ipython",
    "version": 3
   },
   "file_extension": ".py",
   "mimetype": "text/x-python",
   "name": "python",
   "nbconvert_exporter": "python",
   "pygments_lexer": "ipython3",
   "version": "3.9.7"
  },
  "toc": {
   "base_numbering": 1,
   "nav_menu": {},
   "number_sections": true,
   "sideBar": true,
   "skip_h1_title": false,
   "title_cell": "Table of Contents",
   "title_sidebar": "Contents",
   "toc_cell": false,
   "toc_position": {},
   "toc_section_display": true,
   "toc_window_display": false
  }
 },
 "nbformat": 4,
 "nbformat_minor": 5
}
