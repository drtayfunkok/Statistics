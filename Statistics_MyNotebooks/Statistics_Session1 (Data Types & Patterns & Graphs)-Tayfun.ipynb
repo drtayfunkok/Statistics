{
 "cells": [
  {
   "cell_type": "markdown",
   "id": "97610f0d",
   "metadata": {},
   "source": [
    "## Statistics Types \n",
    "\n",
    "1. Descriptive Statistics \n",
    " - presenting, organizing and summarizing data. \n",
    "2. Inferential Statistics \n",
    " - conclusion about a population based on data observed in a sample. \n"
   ]
  },
  {
   "cell_type": "markdown",
   "id": "9fb1835c",
   "metadata": {},
   "source": [
    "- online sourse \n",
    "\n",
    ". https://www.onlinestatbook.com/\n",
    "\n",
    "- Books\n",
    "\n",
    ". Mathematical statistics with applications \n",
    "\n",
    ". Statistics methods for machine learning \n",
    "\n",
    ". Practical statistics for data scientists \n",
    "\n"
   ]
  },
  {
   "cell_type": "markdown",
   "id": "95e73a1a",
   "metadata": {},
   "source": [
    " ## Types of Data \n",
    "1. Numerical\n",
    "\n",
    " a) continuous (age, weight, blood, pressure)\n",
    "\n",
    " b) Discrete (shoe size, number of children)\n",
    " \n",
    "\n",
    "2. Categoric \n",
    "\n",
    " a) Ordinal (rating, mood, satisfaction, pain severity)\n",
    "\n",
    " b) Nominal (eye color, dog breed, blood type)"
   ]
  },
  {
   "cell_type": "markdown",
   "id": "920a2d6e",
   "metadata": {},
   "source": [
    "## Graphical Representation of Data\n",
    "Data Patterns in Statistics \n",
    " \n",
    " - Center (mean, mode, median)\n",
    " \n",
    " - Spread (narrow distribution, broad distribution)\n",
    " \n",
    " - Shape (symmetric, unimodal bell shaped, bimodal skewed right, skewed left, uniform)\n",
    " \n",
    " - Unusual features (gaps, outliers) \n",
    " \n",
    "Charts \n",
    " \n",
    "- Bar chart \n",
    "\n",
    "- Pie chart\n",
    "\n",
    "- Histogram chart \n"
   ]
  },
  {
   "cell_type": "markdown",
   "id": "698a99fc",
   "metadata": {},
   "source": [
    "## Population & Samples \n",
    "\n",
    "Population attributes --> Parameters \n",
    "\n",
    "Sample attributes --> Statistics "
   ]
  },
  {
   "cell_type": "markdown",
   "id": "405829e6",
   "metadata": {},
   "source": [
    "## Sample Techniques \n",
    "\n",
    "- Probability sampling \n",
    "\n",
    " . Simple random sample \n",
    "\n",
    " . Systematic sample \n",
    "\n",
    " . Stratified sample \n",
    "\n",
    " . Cluster sample \n",
    " \n",
    "\n",
    "- Non-probability sampling \n",
    "\n",
    " . Convenience sample \n",
    "\n",
    " . Voluntary response sample \n",
    "\n",
    " . Purposive sample \n",
    "\n",
    " . Snowball sample "
   ]
  },
  {
   "cell_type": "code",
   "execution_count": null,
   "id": "f583afae",
   "metadata": {},
   "outputs": [],
   "source": []
  }
 ],
 "metadata": {
  "kernelspec": {
   "display_name": "Python 3 (ipykernel)",
   "language": "python",
   "name": "python3"
  },
  "language_info": {
   "codemirror_mode": {
    "name": "ipython",
    "version": 3
   },
   "file_extension": ".py",
   "mimetype": "text/x-python",
   "name": "python",
   "nbconvert_exporter": "python",
   "pygments_lexer": "ipython3",
   "version": "3.9.7"
  },
  "toc": {
   "base_numbering": 1,
   "nav_menu": {},
   "number_sections": true,
   "sideBar": true,
   "skip_h1_title": false,
   "title_cell": "Table of Contents",
   "title_sidebar": "Contents",
   "toc_cell": false,
   "toc_position": {},
   "toc_section_display": true,
   "toc_window_display": true
  }
 },
 "nbformat": 4,
 "nbformat_minor": 5
}
