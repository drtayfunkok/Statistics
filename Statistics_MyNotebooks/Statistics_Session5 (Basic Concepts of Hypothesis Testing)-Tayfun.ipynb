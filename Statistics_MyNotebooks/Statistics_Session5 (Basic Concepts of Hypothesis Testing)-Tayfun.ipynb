{
 "cells": [
  {
   "cell_type": "markdown",
   "id": "cb611149",
   "metadata": {},
   "source": [
    "# Performing a Significance Test \n",
    "\n",
    "A significance test has five steps \n",
    "\n",
    " . Step1: Assumptions \n",
    " \n",
    " . Step2: Hypotheses \n",
    " \n",
    " . Step3: Test Statistics \n",
    " \n",
    " . Step4: P-value\n",
    " \n",
    " . Step5: Conclusion \n",
    "\n"
   ]
  },
  {
   "cell_type": "markdown",
   "id": "f8b07508",
   "metadata": {},
   "source": [
    "## Step1: Assumptions \n",
    " \n",
    " 1. Sample is selected random \n",
    " \n",
    " 2. Observations are independent \n",
    " \n",
    " 3. Populations $\\sigma$ is known or 30-observations sample \n"
   ]
  },
  {
   "cell_type": "markdown",
   "id": "e45c7696",
   "metadata": {},
   "source": [
    "## Step2: Hypotheses \n",
    "\n",
    " . The null hypothesis ($H_0$) is a statement that the parameter takes a particular value.\n",
    " \n",
    " . The alternative hypothesis ($H_a$) states that the parameter falls in some alternative range of values. \n",
    " \n",
    " . We assume that $H_0$ is true. From the conclusion of hypothesis testing, we accept $H_0$ or not. \n",
    "\n"
   ]
  },
  {
   "cell_type": "markdown",
   "id": "d711a549",
   "metadata": {},
   "source": [
    "## Step3: Test Statistics \n",
    "\n",
    ".  We usually use t-test but sometimes we can use z-test as well.\n",
    "\n",
    "test statistic $z=\\frac{\\bar{x}-\\mu_{0}}{\\sigma/\\sqrt{n}}$\n",
    "\n",
    "test statistic $t=\\frac{\\bar{x}-\\mu_{0}}{s/\\sqrt{n}}$\n",
    "\n",
    "\n",
    "\n"
   ]
  },
  {
   "cell_type": "markdown",
   "id": "5585773e",
   "metadata": {},
   "source": [
    "## Step4: P-Value\n",
    "\n",
    ". The p-value is the probability of obtaining test results at least as extreme as the result actually observed, under the assumption that the null hypothesis is correct.\n",
    "\n",
    ". Smaller P-values represent stronger evidence against $H_0$. "
   ]
  },
  {
   "cell_type": "markdown",
   "id": "5b3cd14c",
   "metadata": {},
   "source": [
    "## Step5: Conclusion \n",
    "\n",
    ". Based on p-value , make a decision about $H_0$ (either reject or do not reject $H_0$) if decision is needed.\n",
    "\n",
    ". Significance level is a number such that we reject $H_0$ if P-value is less than or equal to that number. In practice, the most common significance level is 0.005. "
   ]
  },
  {
   "cell_type": "markdown",
   "id": "6778123b",
   "metadata": {},
   "source": [
    "# Type 1 and Type 2 Errors\n",
    " . Type 1 error consists of rejecting the null hypothesis $H_0$ when it was true.\n",
    " \n",
    "   Examples: \n",
    "   \n",
    "    - we convict an innocent person.\n",
    "    \n",
    "    - we say a fair coin is biased. \n",
    "     \n",
    "  . Type 2 error involves not rejecting $H_0$ when $H_0$ is false. \n",
    "  \n",
    "   Examples: \n",
    "  \n",
    "     - we fail to convict a guilty person.\n",
    "     \n",
    "     - we say a biased coin is fair. \n",
    "     \n",
    "  . Type 1 errors are usually considered to be more serious. "
   ]
  },
  {
   "cell_type": "markdown",
   "id": "56a62a76",
   "metadata": {},
   "source": [
    "# One and Two Tailed Tests\n",
    "\n",
    "  . One tail test : $z_{\\alpha}$\n",
    "  \n",
    "  . Two tail test : $z_{\\frac{\\alpha}{2}}$\n",
    "  \n",
    "  . test statistic $z=\\frac{\\bar{x}-\\mu_{0}}{\\sigma/\\sqrt{n}}$\n",
    "  \n",
    "  . If $z>z_{\\alpha}$ or $p<\\alpha$, then we reject $H_0$. \n"
   ]
  },
  {
   "cell_type": "code",
   "execution_count": 1,
   "id": "af3be286",
   "metadata": {},
   "outputs": [],
   "source": [
    "import numpy as np \n",
    "import pandas as pd \n",
    "from scipy import stats\n",
    "import seaborn as sns"
   ]
  },
  {
   "cell_type": "markdown",
   "id": "da755c97",
   "metadata": {},
   "source": [
    "# Example 1 \n",
    "\n",
    "Suppose that a beach is safe to swim if the mean level of lead in the water is 10($\\mu0$) parts/ million. \n",
    "We $\\mu, \\sigma=1.5$. Water safety is going to be determined by taking 40 water samples and using the test statistic. Sample mean is 10.5 and $\\alpha=0.05$."
   ]
  },
  {
   "cell_type": "code",
   "execution_count": 2,
   "id": "bbb9b843",
   "metadata": {},
   "outputs": [],
   "source": [
    "xbar = 10.5\n",
    "sigma = 1.5\n",
    "n = 40\n",
    "mu = 10"
   ]
  },
  {
   "cell_type": "markdown",
   "id": "5d2f1304",
   "metadata": {},
   "source": [
    "$H_0 : mu = 10 H_1 : mu > 10$\n"
   ]
  },
  {
   "cell_type": "markdown",
   "id": "869c618a",
   "metadata": {},
   "source": [
    "Test Statistic"
   ]
  },
  {
   "cell_type": "code",
   "execution_count": 3,
   "id": "90ac6410",
   "metadata": {},
   "outputs": [
    {
     "data": {
      "text/plain": [
       "2.1081851067789197"
      ]
     },
     "execution_count": 3,
     "metadata": {},
     "output_type": "execute_result"
    }
   ],
   "source": [
    "z = (xbar - mu) / (sigma/np.sqrt(n))\n",
    "z"
   ]
  },
  {
   "cell_type": "markdown",
   "id": "5e0e910b",
   "metadata": {},
   "source": [
    "p-value"
   ]
  },
  {
   "cell_type": "code",
   "execution_count": 4,
   "id": "d49efe0c",
   "metadata": {},
   "outputs": [
    {
     "data": {
      "text/plain": [
       "0.017507490509831247"
      ]
     },
     "execution_count": 4,
     "metadata": {},
     "output_type": "execute_result"
    }
   ],
   "source": [
    "p = 1- stats.norm.cdf(z)\n",
    "p"
   ]
  },
  {
   "cell_type": "markdown",
   "id": "7c48a820",
   "metadata": {},
   "source": [
    "$p<\\alpha$ so we reject $H_0$."
   ]
  },
  {
   "cell_type": "code",
   "execution_count": 5,
   "id": "437ad147",
   "metadata": {},
   "outputs": [],
   "source": [
    "#stats.ttest_1samp(a,10,alternative=\"greater\") # we can solve this method "
   ]
  },
  {
   "cell_type": "code",
   "execution_count": 6,
   "id": "9d5183cd",
   "metadata": {},
   "outputs": [
    {
     "data": {
      "text/html": [
       "<div>\n",
       "<style scoped>\n",
       "    .dataframe tbody tr th:only-of-type {\n",
       "        vertical-align: middle;\n",
       "    }\n",
       "\n",
       "    .dataframe tbody tr th {\n",
       "        vertical-align: top;\n",
       "    }\n",
       "\n",
       "    .dataframe thead th {\n",
       "        text-align: right;\n",
       "    }\n",
       "</style>\n",
       "<table border=\"1\" class=\"dataframe\">\n",
       "  <thead>\n",
       "    <tr style=\"text-align: right;\">\n",
       "      <th></th>\n",
       "      <th>mpg</th>\n",
       "      <th>cylinders</th>\n",
       "      <th>displacement</th>\n",
       "      <th>horsepower</th>\n",
       "      <th>weight</th>\n",
       "      <th>acceleration</th>\n",
       "      <th>model_year</th>\n",
       "      <th>origin</th>\n",
       "      <th>name</th>\n",
       "    </tr>\n",
       "  </thead>\n",
       "  <tbody>\n",
       "    <tr>\n",
       "      <th>0</th>\n",
       "      <td>18.0</td>\n",
       "      <td>8</td>\n",
       "      <td>307.0</td>\n",
       "      <td>130.0</td>\n",
       "      <td>3504</td>\n",
       "      <td>12.0</td>\n",
       "      <td>70</td>\n",
       "      <td>usa</td>\n",
       "      <td>chevrolet chevelle malibu</td>\n",
       "    </tr>\n",
       "    <tr>\n",
       "      <th>1</th>\n",
       "      <td>15.0</td>\n",
       "      <td>8</td>\n",
       "      <td>350.0</td>\n",
       "      <td>165.0</td>\n",
       "      <td>3693</td>\n",
       "      <td>11.5</td>\n",
       "      <td>70</td>\n",
       "      <td>usa</td>\n",
       "      <td>buick skylark 320</td>\n",
       "    </tr>\n",
       "    <tr>\n",
       "      <th>2</th>\n",
       "      <td>18.0</td>\n",
       "      <td>8</td>\n",
       "      <td>318.0</td>\n",
       "      <td>150.0</td>\n",
       "      <td>3436</td>\n",
       "      <td>11.0</td>\n",
       "      <td>70</td>\n",
       "      <td>usa</td>\n",
       "      <td>plymouth satellite</td>\n",
       "    </tr>\n",
       "    <tr>\n",
       "      <th>3</th>\n",
       "      <td>16.0</td>\n",
       "      <td>8</td>\n",
       "      <td>304.0</td>\n",
       "      <td>150.0</td>\n",
       "      <td>3433</td>\n",
       "      <td>12.0</td>\n",
       "      <td>70</td>\n",
       "      <td>usa</td>\n",
       "      <td>amc rebel sst</td>\n",
       "    </tr>\n",
       "    <tr>\n",
       "      <th>4</th>\n",
       "      <td>17.0</td>\n",
       "      <td>8</td>\n",
       "      <td>302.0</td>\n",
       "      <td>140.0</td>\n",
       "      <td>3449</td>\n",
       "      <td>10.5</td>\n",
       "      <td>70</td>\n",
       "      <td>usa</td>\n",
       "      <td>ford torino</td>\n",
       "    </tr>\n",
       "  </tbody>\n",
       "</table>\n",
       "</div>"
      ],
      "text/plain": [
       "    mpg  cylinders  displacement  horsepower  weight  acceleration  \\\n",
       "0  18.0          8         307.0       130.0    3504          12.0   \n",
       "1  15.0          8         350.0       165.0    3693          11.5   \n",
       "2  18.0          8         318.0       150.0    3436          11.0   \n",
       "3  16.0          8         304.0       150.0    3433          12.0   \n",
       "4  17.0          8         302.0       140.0    3449          10.5   \n",
       "\n",
       "   model_year origin                       name  \n",
       "0          70    usa  chevrolet chevelle malibu  \n",
       "1          70    usa          buick skylark 320  \n",
       "2          70    usa         plymouth satellite  \n",
       "3          70    usa              amc rebel sst  \n",
       "4          70    usa                ford torino  "
      ]
     },
     "execution_count": 6,
     "metadata": {},
     "output_type": "execute_result"
    }
   ],
   "source": [
    "df = sns.load_dataset(\"mpg\")\n",
    "df.head()"
   ]
  },
  {
   "cell_type": "code",
   "execution_count": 7,
   "id": "09150e54",
   "metadata": {},
   "outputs": [
    {
     "data": {
      "text/html": [
       "<div>\n",
       "<style scoped>\n",
       "    .dataframe tbody tr th:only-of-type {\n",
       "        vertical-align: middle;\n",
       "    }\n",
       "\n",
       "    .dataframe tbody tr th {\n",
       "        vertical-align: top;\n",
       "    }\n",
       "\n",
       "    .dataframe thead th {\n",
       "        text-align: right;\n",
       "    }\n",
       "</style>\n",
       "<table border=\"1\" class=\"dataframe\">\n",
       "  <thead>\n",
       "    <tr style=\"text-align: right;\">\n",
       "      <th></th>\n",
       "      <th>mpg</th>\n",
       "      <th>cylinders</th>\n",
       "      <th>displacement</th>\n",
       "      <th>horsepower</th>\n",
       "      <th>weight</th>\n",
       "      <th>acceleration</th>\n",
       "      <th>model_year</th>\n",
       "    </tr>\n",
       "  </thead>\n",
       "  <tbody>\n",
       "    <tr>\n",
       "      <th>count</th>\n",
       "      <td>249.000000</td>\n",
       "      <td>249.000000</td>\n",
       "      <td>249.000000</td>\n",
       "      <td>245.00000</td>\n",
       "      <td>249.000000</td>\n",
       "      <td>249.000000</td>\n",
       "      <td>249.000000</td>\n",
       "    </tr>\n",
       "    <tr>\n",
       "      <th>mean</th>\n",
       "      <td>20.083534</td>\n",
       "      <td>6.248996</td>\n",
       "      <td>245.901606</td>\n",
       "      <td>119.04898</td>\n",
       "      <td>3361.931727</td>\n",
       "      <td>15.033735</td>\n",
       "      <td>75.610442</td>\n",
       "    </tr>\n",
       "    <tr>\n",
       "      <th>std</th>\n",
       "      <td>6.402892</td>\n",
       "      <td>1.661425</td>\n",
       "      <td>98.501839</td>\n",
       "      <td>39.89779</td>\n",
       "      <td>794.792506</td>\n",
       "      <td>2.751112</td>\n",
       "      <td>3.677094</td>\n",
       "    </tr>\n",
       "    <tr>\n",
       "      <th>min</th>\n",
       "      <td>9.000000</td>\n",
       "      <td>4.000000</td>\n",
       "      <td>85.000000</td>\n",
       "      <td>52.00000</td>\n",
       "      <td>1800.000000</td>\n",
       "      <td>8.000000</td>\n",
       "      <td>70.000000</td>\n",
       "    </tr>\n",
       "    <tr>\n",
       "      <th>25%</th>\n",
       "      <td>15.000000</td>\n",
       "      <td>4.000000</td>\n",
       "      <td>151.000000</td>\n",
       "      <td>88.00000</td>\n",
       "      <td>2720.000000</td>\n",
       "      <td>13.000000</td>\n",
       "      <td>73.000000</td>\n",
       "    </tr>\n",
       "    <tr>\n",
       "      <th>50%</th>\n",
       "      <td>18.500000</td>\n",
       "      <td>6.000000</td>\n",
       "      <td>250.000000</td>\n",
       "      <td>105.00000</td>\n",
       "      <td>3365.000000</td>\n",
       "      <td>15.000000</td>\n",
       "      <td>76.000000</td>\n",
       "    </tr>\n",
       "    <tr>\n",
       "      <th>75%</th>\n",
       "      <td>24.000000</td>\n",
       "      <td>8.000000</td>\n",
       "      <td>318.000000</td>\n",
       "      <td>150.00000</td>\n",
       "      <td>4054.000000</td>\n",
       "      <td>16.900000</td>\n",
       "      <td>79.000000</td>\n",
       "    </tr>\n",
       "    <tr>\n",
       "      <th>max</th>\n",
       "      <td>39.000000</td>\n",
       "      <td>8.000000</td>\n",
       "      <td>455.000000</td>\n",
       "      <td>230.00000</td>\n",
       "      <td>5140.000000</td>\n",
       "      <td>22.200000</td>\n",
       "      <td>82.000000</td>\n",
       "    </tr>\n",
       "  </tbody>\n",
       "</table>\n",
       "</div>"
      ],
      "text/plain": [
       "              mpg   cylinders  displacement  horsepower       weight  \\\n",
       "count  249.000000  249.000000    249.000000   245.00000   249.000000   \n",
       "mean    20.083534    6.248996    245.901606   119.04898  3361.931727   \n",
       "std      6.402892    1.661425     98.501839    39.89779   794.792506   \n",
       "min      9.000000    4.000000     85.000000    52.00000  1800.000000   \n",
       "25%     15.000000    4.000000    151.000000    88.00000  2720.000000   \n",
       "50%     18.500000    6.000000    250.000000   105.00000  3365.000000   \n",
       "75%     24.000000    8.000000    318.000000   150.00000  4054.000000   \n",
       "max     39.000000    8.000000    455.000000   230.00000  5140.000000   \n",
       "\n",
       "       acceleration  model_year  \n",
       "count    249.000000  249.000000  \n",
       "mean      15.033735   75.610442  \n",
       "std        2.751112    3.677094  \n",
       "min        8.000000   70.000000  \n",
       "25%       13.000000   73.000000  \n",
       "50%       15.000000   76.000000  \n",
       "75%       16.900000   79.000000  \n",
       "max       22.200000   82.000000  "
      ]
     },
     "execution_count": 7,
     "metadata": {},
     "output_type": "execute_result"
    }
   ],
   "source": [
    "df[df[\"origin\"]==\"usa\"].describe()"
   ]
  },
  {
   "cell_type": "code",
   "execution_count": 8,
   "id": "8a742ac5",
   "metadata": {},
   "outputs": [
    {
     "data": {
      "text/plain": [
       "Ttest_1sampResult(statistic=3.550044602017898, pvalue=0.00023100358895404322)"
      ]
     },
     "execution_count": 8,
     "metadata": {},
     "output_type": "execute_result"
    }
   ],
   "source": [
    "stats.ttest_1samp(df[df[\"origin\"]==\"usa\"][\"horsepower\"].dropna(),110,alternative=\"greater\")"
   ]
  },
  {
   "cell_type": "code",
   "execution_count": 9,
   "id": "93dd5911",
   "metadata": {},
   "outputs": [
    {
     "data": {
      "text/plain": [
       "Ttest_1sampResult(statistic=-4.723072192881628, pvalue=1.9455026028456406e-06)"
      ]
     },
     "execution_count": 9,
     "metadata": {},
     "output_type": "execute_result"
    }
   ],
   "source": [
    "stats.ttest_1samp(df[df[\"origin\"]==\"usa\"][\"mpg\"].dropna(),22,alternative=\"less\")"
   ]
  },
  {
   "cell_type": "code",
   "execution_count": 10,
   "id": "15347188",
   "metadata": {},
   "outputs": [
    {
     "data": {
      "text/plain": [
       "Ttest_1sampResult(statistic=-4.723072192881628, pvalue=3.891005205691281e-06)"
      ]
     },
     "execution_count": 10,
     "metadata": {},
     "output_type": "execute_result"
    }
   ],
   "source": [
    "stats.ttest_1samp(df[df[\"origin\"]==\"usa\"][\"mpg\"].dropna(),22)"
   ]
  },
  {
   "cell_type": "code",
   "execution_count": 11,
   "id": "7da531d9",
   "metadata": {},
   "outputs": [
    {
     "data": {
      "text/plain": [
       "Ttest_1sampResult(statistic=-7.953024725516988, pvalue=0.9999999999853763)"
      ]
     },
     "execution_count": 11,
     "metadata": {},
     "output_type": "execute_result"
    }
   ],
   "source": [
    "stats.ttest_1samp(df[df[\"origin\"]==\"europe\"][\"horsepower\"].dropna(),100,alternative=\"greater\")"
   ]
  },
  {
   "cell_type": "code",
   "execution_count": 12,
   "id": "20f5bb2e",
   "metadata": {},
   "outputs": [
    {
     "data": {
      "text/plain": [
       "Ttest_1sampResult(statistic=-7.953024725516988, pvalue=2.92474723426341e-11)"
      ]
     },
     "execution_count": 12,
     "metadata": {},
     "output_type": "execute_result"
    }
   ],
   "source": [
    "stats.ttest_1samp(df[df[\"origin\"]==\"europe\"][\"horsepower\"].dropna(),100)"
   ]
  },
  {
   "cell_type": "code",
   "execution_count": 13,
   "id": "6f7645d1",
   "metadata": {},
   "outputs": [
    {
     "data": {
      "text/plain": [
       "Ttest_1sampResult(statistic=-9.84610838848352, pvalue=8.80766713530181e-15)"
      ]
     },
     "execution_count": 13,
     "metadata": {},
     "output_type": "execute_result"
    }
   ],
   "source": [
    "stats.ttest_1samp(df[df[\"origin\"]==\"europe\"][\"weight\"].dropna(),3000,alternative=\"two-sided\")"
   ]
  },
  {
   "cell_type": "code",
   "execution_count": null,
   "id": "963df13e",
   "metadata": {},
   "outputs": [],
   "source": []
  }
 ],
 "metadata": {
  "kernelspec": {
   "display_name": "Python 3 (ipykernel)",
   "language": "python",
   "name": "python3"
  },
  "language_info": {
   "codemirror_mode": {
    "name": "ipython",
    "version": 3
   },
   "file_extension": ".py",
   "mimetype": "text/x-python",
   "name": "python",
   "nbconvert_exporter": "python",
   "pygments_lexer": "ipython3",
   "version": "3.9.7"
  },
  "toc": {
   "base_numbering": 1,
   "nav_menu": {},
   "number_sections": true,
   "sideBar": true,
   "skip_h1_title": false,
   "title_cell": "Table of Contents",
   "title_sidebar": "Contents",
   "toc_cell": false,
   "toc_position": {},
   "toc_section_display": true,
   "toc_window_display": false
  }
 },
 "nbformat": 4,
 "nbformat_minor": 5
}
