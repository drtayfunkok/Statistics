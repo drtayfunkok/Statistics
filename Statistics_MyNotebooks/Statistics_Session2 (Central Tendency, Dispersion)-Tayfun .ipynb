{
 "cells": [
  {
   "cell_type": "markdown",
   "id": "f2a271dc",
   "metadata": {},
   "source": [
    "## Central Tendency (Measure of Central)\n",
    "\n",
    "- Mean \n",
    "\n",
    "- Median \n",
    "\n",
    "- Mode \n",
    "\n",
    ". symmetric distribution --> mean = median \n",
    "\n",
    ". right skewed distribution --> mean > median \n",
    "\n",
    ". left skewed distribution --> mean < median "
   ]
  },
  {
   "cell_type": "code",
   "execution_count": 1,
   "id": "ba081b9f",
   "metadata": {},
   "outputs": [],
   "source": [
    "import numpy as np \n",
    "from scipy import stats "
   ]
  },
  {
   "cell_type": "code",
   "execution_count": 2,
   "id": "a44f6abf",
   "metadata": {},
   "outputs": [],
   "source": [
    "salary=[102, 33,26,27,30,25,33,33,24]"
   ]
  },
  {
   "cell_type": "code",
   "execution_count": 3,
   "id": "7206a94b",
   "metadata": {},
   "outputs": [
    {
     "data": {
      "text/plain": [
       "37.0"
      ]
     },
     "execution_count": 3,
     "metadata": {},
     "output_type": "execute_result"
    }
   ],
   "source": [
    "mean_salary=np.mean(salary)\n",
    "mean_salary"
   ]
  },
  {
   "cell_type": "code",
   "execution_count": 4,
   "id": "f27fd953",
   "metadata": {},
   "outputs": [
    {
     "data": {
      "text/plain": [
       "30.0"
      ]
     },
     "execution_count": 4,
     "metadata": {},
     "output_type": "execute_result"
    }
   ],
   "source": [
    "median_salary=np.median(salary)\n",
    "median_salary"
   ]
  },
  {
   "cell_type": "code",
   "execution_count": 5,
   "id": "f875fbf2",
   "metadata": {},
   "outputs": [
    {
     "data": {
      "text/plain": [
       "ModeResult(mode=array([33]), count=array([3]))"
      ]
     },
     "execution_count": 5,
     "metadata": {},
     "output_type": "execute_result"
    }
   ],
   "source": [
    "mode_salary=stats.mode(salary)\n",
    "mode_salary"
   ]
  },
  {
   "cell_type": "code",
   "execution_count": null,
   "id": "f494f27b",
   "metadata": {},
   "outputs": [],
   "source": []
  },
  {
   "cell_type": "markdown",
   "id": "4f1a7545",
   "metadata": {},
   "source": [
    "## Dispersion (Measure of Spread) \n",
    "\n",
    "- Range \n",
    "\n",
    "- Standard Deviation \n",
    "\n",
    "  . Variance is the average squared deviation from the mean. \n",
    "  \n",
    "  . Standard deviation is the squared root of the variance. \n",
    "  \n",
    "  . Small standard deviation of a data set  means that the values of the data set are closer the mean. \n",
    "\n",
    "- Interquartile Range \n",
    "\n",
    " . Q2 --> The median of the entire data set \n",
    "\n",
    " . Q1 --> The median of the data below Q2\n",
    "\n",
    " . Q3 --> The median of the data above Q2\n",
    "\n",
    " . Interquartile Range(IQR) = Q3 -Q1 "
   ]
  },
  {
   "cell_type": "code",
   "execution_count": 6,
   "id": "cbcd53ed",
   "metadata": {},
   "outputs": [],
   "source": [
    "data=[3.,4,68,9,10,34,23,45,65,76,100,234,122,123]"
   ]
  },
  {
   "cell_type": "code",
   "execution_count": 7,
   "id": "a3ac123f",
   "metadata": {},
   "outputs": [
    {
     "data": {
      "text/plain": [
       "3.0"
      ]
     },
     "execution_count": 7,
     "metadata": {},
     "output_type": "execute_result"
    }
   ],
   "source": [
    "np.min(data)"
   ]
  },
  {
   "cell_type": "code",
   "execution_count": 8,
   "id": "714842af",
   "metadata": {},
   "outputs": [
    {
     "data": {
      "text/plain": [
       "234.0"
      ]
     },
     "execution_count": 8,
     "metadata": {},
     "output_type": "execute_result"
    }
   ],
   "source": [
    "np.max(data)"
   ]
  },
  {
   "cell_type": "code",
   "execution_count": 9,
   "id": "4ad10aeb",
   "metadata": {},
   "outputs": [
    {
     "data": {
      "text/plain": [
       "231.0"
      ]
     },
     "execution_count": 9,
     "metadata": {},
     "output_type": "execute_result"
    }
   ],
   "source": [
    "range_data=np.max(data)-np.min(data)\n",
    "range_data"
   ]
  },
  {
   "cell_type": "code",
   "execution_count": 10,
   "id": "c5d53dab",
   "metadata": {},
   "outputs": [
    {
     "data": {
      "text/plain": [
       "13.25"
      ]
     },
     "execution_count": 10,
     "metadata": {},
     "output_type": "execute_result"
    }
   ],
   "source": [
    "Q1= np.percentile(data, 25)\n",
    "Q1"
   ]
  },
  {
   "cell_type": "code",
   "execution_count": 11,
   "id": "fdc25ea9",
   "metadata": {},
   "outputs": [
    {
     "data": {
      "text/plain": [
       "55.0"
      ]
     },
     "execution_count": 11,
     "metadata": {},
     "output_type": "execute_result"
    }
   ],
   "source": [
    "Q2= np.percentile(data, 50)\n",
    "Q2"
   ]
  },
  {
   "cell_type": "code",
   "execution_count": 12,
   "id": "98e9c8ee",
   "metadata": {},
   "outputs": [
    {
     "data": {
      "text/plain": [
       "94.0"
      ]
     },
     "execution_count": 12,
     "metadata": {},
     "output_type": "execute_result"
    }
   ],
   "source": [
    "Q3= np.percentile(data, 75)\n",
    "Q3"
   ]
  },
  {
   "cell_type": "code",
   "execution_count": 13,
   "id": "39513cda",
   "metadata": {},
   "outputs": [
    {
     "data": {
      "text/plain": [
       "80.75"
      ]
     },
     "execution_count": 13,
     "metadata": {},
     "output_type": "execute_result"
    }
   ],
   "source": [
    "IQR = Q3-Q1\n",
    "IQR"
   ]
  },
  {
   "cell_type": "code",
   "execution_count": 14,
   "id": "0a38da56",
   "metadata": {},
   "outputs": [
    {
     "data": {
      "text/plain": [
       "80.75"
      ]
     },
     "execution_count": 14,
     "metadata": {},
     "output_type": "execute_result"
    }
   ],
   "source": [
    "stats.iqr(data)"
   ]
  },
  {
   "cell_type": "code",
   "execution_count": 15,
   "id": "527403f9",
   "metadata": {},
   "outputs": [
    {
     "data": {
      "text/plain": [
       "3812.6734693877547"
      ]
     },
     "execution_count": 15,
     "metadata": {},
     "output_type": "execute_result"
    }
   ],
   "source": [
    "np.var(data)"
   ]
  },
  {
   "cell_type": "code",
   "execution_count": 16,
   "id": "ea815a1b",
   "metadata": {},
   "outputs": [
    {
     "data": {
      "text/plain": [
       "61.74684987420617"
      ]
     },
     "execution_count": 16,
     "metadata": {},
     "output_type": "execute_result"
    }
   ],
   "source": [
    "np.std(data)"
   ]
  },
  {
   "cell_type": "code",
   "execution_count": null,
   "id": "69b3c75c",
   "metadata": {},
   "outputs": [],
   "source": []
  },
  {
   "cell_type": "markdown",
   "id": "179ac11c",
   "metadata": {},
   "source": [
    "##  Box (Whisker) Plot \n",
    "  \n",
    "   . It shows median, Q1, Q3 and outliers.\n",
    "  \n",
    "- 1.5xIQR Rule (John Tukey)\n",
    "\n",
    "  . we can find outliers with this rule. \n",
    "\n",
    "\n",
    "  \n",
    "  "
   ]
  },
  {
   "cell_type": "code",
   "execution_count": 17,
   "id": "2208085e",
   "metadata": {},
   "outputs": [
    {
     "data": {
      "text/plain": [
       "[3.0, 4, 68, 9, 10, 34, 23, 45, 65, 76, 100, 234, 122, 123]"
      ]
     },
     "execution_count": 17,
     "metadata": {},
     "output_type": "execute_result"
    }
   ],
   "source": [
    "data "
   ]
  },
  {
   "cell_type": "code",
   "execution_count": 18,
   "id": "6ed45772",
   "metadata": {},
   "outputs": [],
   "source": [
    "import matplotlib.pyplot as plt"
   ]
  },
  {
   "cell_type": "code",
   "execution_count": 19,
   "id": "6565c4ff",
   "metadata": {},
   "outputs": [
    {
     "data": {
      "image/png": "[encoded data removed]",
      "text/plain": [
       "<Figure size 432x288 with 1 Axes>"
      ]
     },
     "metadata": {
      "needs_background": "light"
     },
     "output_type": "display_data"
    }
   ],
   "source": [
    "plt.boxplot(data);"
   ]
  },
  {
   "cell_type": "code",
   "execution_count": null,
   "id": "795ff991",
   "metadata": {},
   "outputs": [],
   "source": []
  },
  {
   "cell_type": "code",
   "execution_count": null,
   "id": "b5e4c18d",
   "metadata": {},
   "outputs": [],
   "source": []
  },
  {
   "cell_type": "code",
   "execution_count": null,
   "id": "7e03fbed",
   "metadata": {},
   "outputs": [],
   "source": []
  }
 ],
 "metadata": {
  "kernelspec": {
   "display_name": "Python 3 (ipykernel)",
   "language": "python",
   "name": "python3"
  },
  "language_info": {
   "codemirror_mode": {
    "name": "ipython",
    "version": 3
   },
   "file_extension": ".py",
   "mimetype": "text/x-python",
   "name": "python",
   "nbconvert_exporter": "python",
   "pygments_lexer": "ipython3",
   "version": "3.9.7"
  },
  "toc": {
   "base_numbering": 1,
   "nav_menu": {},
   "number_sections": true,
   "sideBar": true,
   "skip_h1_title": false,
   "title_cell": "Table of Contents",
   "title_sidebar": "Contents",
   "toc_cell": false,
   "toc_position": {},
   "toc_section_display": true,
   "toc_window_display": false
  }
 },
 "nbformat": 4,
 "nbformat_minor": 5
}
